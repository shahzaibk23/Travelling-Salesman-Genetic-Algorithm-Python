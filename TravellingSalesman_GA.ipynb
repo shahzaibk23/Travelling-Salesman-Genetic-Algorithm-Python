{
  "nbformat": 4,
  "nbformat_minor": 0,
  "metadata": {
    "colab": {
      "name": "TravellingSalesman_GA.ipynb",
      "provenance": [],
      "collapsed_sections": []
    },
    "kernelspec": {
      "name": "python3",
      "display_name": "Python 3"
    },
    "language_info": {
      "name": "python"
    }
  },
  "cells": [
    {
      "cell_type": "markdown",
      "metadata": {
        "id": "6dTIEpOQJzI_"
      },
      "source": [
        "#Solving Travelling Salesman Problem by Genetic Algorithm"
      ]
    },
    {
      "cell_type": "markdown",
      "metadata": {
        "id": "hIPgjcE4KEKC"
      },
      "source": [
        "Contexts:\n",
        "\n",
        "\n",
        "*   **Gene:** a city (represented as (x,y) coordinate\n",
        "*   **Individual(aka chromosome):** a single route satisfying the conditions above\n",
        "*   **Population:** a collection of possible routes (collection of individuals)\n",
        "*   **Parents:** two routes that are combined to create a new route\n",
        "*   **Mating Pool:** a collection of parents that are used to create next population (or next generation of routes)\n",
        "*  **Fitness:** a function that tells us how good each route is (or how short the distance is)\n",
        "*  **Mutation:** a way to introduce variation in our population by randomly swapping two cities in a route\n",
        "*  **Elitism:** a way to carry best individuals into the next generation\n",
        "\n"
      ]
    },
    {
      "cell_type": "markdown",
      "metadata": {
        "id": "o-wwq7msLZYy"
      },
      "source": [
        "The Genetic Algorithm wil follow the following steps:\n",
        "\n",
        "\n",
        "1.   Create the population\n",
        "2.   Determine fitness\n",
        "3.   Select the mating pool\n",
        "4. Breed\n",
        "5. Mutate\n",
        "6. *Repeat*\n",
        "\n"
      ]
    },
    {
      "cell_type": "code",
      "metadata": {
        "id": "1i9kVxc72Zje"
      },
      "source": [
        "import numpy as np, random, operator, pandas as pd, matplotlib.pyplot as plt"
      ],
      "execution_count": 2,
      "outputs": []
    },
    {
      "cell_type": "markdown",
      "metadata": {
        "id": "Fh0O6-tH2lg0"
      },
      "source": [
        "###Creating classes for City and Fitness"
      ]
    },
    {
      "cell_type": "code",
      "metadata": {
        "id": "vxT0_a142iZ4"
      },
      "source": [
        "class City:\n",
        "  def __init__(self,x,y):\n",
        "    self.x,self.y = x,y\n",
        "  \n",
        "  def distance(self,city):\n",
        "    \"\"\"\n",
        "      Calculating distance via Pythagoreas Theorem ( c = root[a^2 + b^2] )\n",
        "    \"\"\"\n",
        "    xDistance, yDistance = abs(self.x - city.x), abs(self.y - city.y)\n",
        "    distance = np.sqrt((xDistance **2) + (yDistance **2))\n",
        "    return distance\n",
        "  \n",
        "  def __repr__(self):\n",
        "    return f\"( {str(self.x)} , {str(self.y)} )\""
      ],
      "execution_count": 3,
      "outputs": []
    },
    {
      "cell_type": "code",
      "metadata": {
        "id": "wasbpBCl3nq8"
      },
      "source": [
        "class Fitness:\n",
        "  def __init__(self, route):\n",
        "    self.route, self.distance, self.fitness = route, 0, 0.0\n",
        "\n",
        "  def routeDistance(self):\n",
        "    if self.distance == 0:\n",
        "      pathDistance = 0\n",
        "      for i,v in enumerate(self.route):\n",
        "        fromCity = v\n",
        "        toCity = None\n",
        "\n",
        "        if i + 1 < len(self.route):\n",
        "          toCity = self.route[i + 1]\n",
        "        else:\n",
        "          toCity = self.route[0]\n",
        "\n",
        "        pathDistance += fromCity.distance(toCity)\n",
        "\n",
        "      self.distance = pathDistance\n",
        "    return self.distance\n",
        "\n",
        "  def routeFitness(self):\n",
        "    if self.fitness == 0:\n",
        "      self.fitness = 1 / float(self.routeDistance())\n",
        "    return self.fitness"
      ],
      "execution_count": 4,
      "outputs": []
    },
    {
      "cell_type": "markdown",
      "metadata": {
        "id": "_njkBClD5SVM"
      },
      "source": [
        "###Creating the population (aka First Generation)"
      ]
    },
    {
      "cell_type": "code",
      "metadata": {
        "id": "nk77-ZnQ5Og-"
      },
      "source": [
        "# Route Generator\n",
        "def createRoute(cityList):\n",
        "  \"\"\"\n",
        "    creating random routes from one city to another\n",
        "  \"\"\"\n",
        "  route = random.sample(cityList, len(cityList))\n",
        "  return route"
      ],
      "execution_count": 5,
      "outputs": []
    },
    {
      "cell_type": "code",
      "metadata": {
        "id": "pIpuJyT15pwv"
      },
      "source": [
        "# Creating first population (list of routes)\n",
        "def initialPopulation(populationSize, cityList):\n",
        "  \"\"\"\n",
        "    creating routes for entire population\n",
        "  \"\"\"\n",
        "  population = []\n",
        "  for i in range(populationSize):\n",
        "    population.append(createRoute(cityList))\n",
        "  return population"
      ],
      "execution_count": 6,
      "outputs": []
    },
    {
      "cell_type": "markdown",
      "metadata": {
        "id": "NvkV67V76XJT"
      },
      "source": [
        "##Creating the Genetic Algorithm"
      ]
    },
    {
      "cell_type": "code",
      "metadata": {
        "id": "wKPNDNQ56D58"
      },
      "source": [
        "# ranking routes\n",
        "def rankRoutes(population):\n",
        "  \"\"\"\n",
        "    Simulating 'Survival of the fittest' by ranking each individual in the population.\n",
        "    Output will be ordered list with route IDs and each associated fitness score.\n",
        "  \"\"\"\n",
        "  fitnessResults = {}\n",
        "  for i,v in enumerate(population):\n",
        "    fitnessResults[i]  = Fitness(v).routeFitness()\n",
        "  return sorted(fitnessResults.items(), key = operator.itemgetter(1), reverse=True)"
      ],
      "execution_count": 7,
      "outputs": []
    },
    {
      "cell_type": "markdown",
      "metadata": {
        "id": "v8alnlw27l-C"
      },
      "source": [
        "###Creating Next Generation (Selection of Mating Pool) by using approach of Fitness Proportionate Selection (aka Roulette Wheel Selection)"
      ]
    },
    {
      "cell_type": "code",
      "metadata": {
        "id": "SgVi8bG47FKy"
      },
      "source": [
        "def selection(populationRanked, eliteSize):\n",
        "  \"\"\"\n",
        "    Using Roulette Wheel approach to select the mating pool.\n",
        "      - The fitness of each individual relative to the population is used\n",
        "         to assign a probability of selection.\n",
        "      - We consider this as the fitness-weighted probability of being selected.\n",
        "    Another design feature to consider is the use of elitism.\n",
        "      - With elitism, the best performing individuals from the population\n",
        "         will automatically carry over to the next generation,\n",
        "         ensuring that the most successful individuals persist.\n",
        "    \n",
        "    1. First we are using output from rankRoutes to determine which routes to select.\n",
        "    2. Then we set up roulette wheel\n",
        "    3. Then we introduce elitism to hold onto best routes\n",
        "    4. Then we select the mating pool.\n",
        "  \"\"\"\n",
        "\n",
        "  selectionResults = []\n",
        "\n",
        "  # Setting up Roulette Wheel by calculation relative fitness weight of each individual\n",
        "  df = pd.DataFrame(np.array(populationRanked), columns=[\"Index\", \"Fitness\"])\n",
        "  df[\"cumulative_sum\"] = df.Fitness.cumsum()\n",
        "  df[\"cumulative_percentage\"] = 100 * df.cumulative_sum / df.Fitness.sum()\n",
        "\n",
        "  # elitism\n",
        "  for i in range(eliteSize):\n",
        "    selectionResults.append(populationRanked[i][0])\n",
        "\n",
        "  # selecting the mating pool\n",
        "  for i in range(len(populationRanked) - eliteSize):\n",
        "    pick = 100 * random.random()\n",
        "    for i in range(len(populationRanked)):\n",
        "      if pick <= df.iat[1,3]:\n",
        "        selectionResults.append(populationRanked[i][0])\n",
        "        break\n",
        "  return selectionResults"
      ],
      "execution_count": 8,
      "outputs": []
    },
    {
      "cell_type": "markdown",
      "metadata": {
        "id": "iDAaKB2vAiT1"
      },
      "source": [
        "###Creating Mating Pool"
      ]
    },
    {
      "cell_type": "code",
      "metadata": {
        "id": "9zNyiYy8ATbx"
      },
      "source": [
        "def matingPool(population, selectionResults):\n",
        "  matingPool = []\n",
        "  for i,v in enumerate(selectionResults):\n",
        "    index = selectionResults[i]\n",
        "    matingPool.append(population[index])\n",
        "  return matingPool"
      ],
      "execution_count": 9,
      "outputs": []
    },
    {
      "cell_type": "markdown",
      "metadata": {
        "id": "IZUDldW5BfJT"
      },
      "source": [
        "###Creating Crossover(aka Breeding) by using approach of Ordered **Crossover**"
      ]
    },
    {
      "cell_type": "code",
      "metadata": {
        "id": "TvuRjhpZBBMB"
      },
      "source": [
        "def breed(parent1, parent2):\n",
        "  \"\"\"\n",
        "    Using Ordered Crossover Breeding Approach\n",
        "      - In ordered crossover, we randomly select a subset of the first parent string.\n",
        "      - and then fill the remainder of the route with the genes from the second parent\n",
        "      - in the order in which they appear\n",
        "      - without duplicating any genes in the selected subset from the first parent\n",
        "  \"\"\"\n",
        "  child = []\n",
        "  childP1 = []\n",
        "  childP2 = []\n",
        "\n",
        "  geneA = int(random.random() * len(parent1))\n",
        "  geneB = int(random.random() * len(parent1))\n",
        "\n",
        "  startGene = min(geneA, geneB)\n",
        "  endGene = max(geneA, geneB)\n",
        "\n",
        "  for i in range(startGene, endGene):\n",
        "    childP1.append(parent1[i])\n",
        "\n",
        "  childP2 = [item for item in parent2 if item not in childP1]\n",
        "\n",
        "  child = childP1 + childP2\n",
        "  return child"
      ],
      "execution_count": 10,
      "outputs": []
    },
    {
      "cell_type": "markdown",
      "metadata": {
        "id": "rs4YVNGDCjjn"
      },
      "source": [
        "### Creating a function to run the crossover over the entire mating pool"
      ]
    },
    {
      "cell_type": "code",
      "metadata": {
        "id": "vndioMlZB6xa"
      },
      "source": [
        "def breedPopulation(matingPool, eliteSize):\n",
        "  children = []\n",
        "  length = len(matingPool) - eliteSize\n",
        "  pool = random.sample(matingPool, len(matingPool))\n",
        "\n",
        "  for i in range(eliteSize):\n",
        "    children.append(matingPool[i])\n",
        "\n",
        "  for i in range(length):\n",
        "    child = breed(pool[i], pool[len(matingPool) -i -1])\n",
        "    children.append(child)\n",
        "\n",
        "  return children"
      ],
      "execution_count": 11,
      "outputs": []
    },
    {
      "cell_type": "markdown",
      "metadata": {
        "id": "Dh7t6Vp0DgCi"
      },
      "source": [
        "###Creating Mutation by using the approach of Swap Mutation"
      ]
    },
    {
      "cell_type": "code",
      "metadata": {
        "id": "Gsawrk0WDTDc"
      },
      "source": [
        "def mutate(individual, mutationRate):\n",
        "  \"\"\"\n",
        "    Using Swap Mutation approach\n",
        "      - with specified low probability, two cities will swap places in our route.\n",
        "  \"\"\"\n",
        "  for swapped in range(len(individual)):\n",
        "    if(random.random() < mutationRate):\n",
        "      swapWith = int(random.random() * len(individual))\n",
        "\n",
        "      city1, city2 = individual[swapped], individual[swapWith]\n",
        "\n",
        "      individual[swapped], individual[swapWith] = city2, city1\n",
        "  \n",
        "  return individual"
      ],
      "execution_count": 12,
      "outputs": []
    },
    {
      "cell_type": "markdown",
      "metadata": {
        "id": "Wcgt_9jCEMVR"
      },
      "source": [
        "###Creating a function to mutate over the population"
      ]
    },
    {
      "cell_type": "code",
      "metadata": {
        "id": "R-aYOT2zEJLI"
      },
      "source": [
        "def mutatePopulation(population, mutationRate):\n",
        "  mutatedPopulation = []\n",
        "\n",
        "  for i,v in enumerate(population):\n",
        "    mutated = mutate(v, mutationRate)\n",
        "    mutatedPopulation.append(mutated)\n",
        "\n",
        "  return mutatedPopulation"
      ],
      "execution_count": 13,
      "outputs": []
    },
    {
      "cell_type": "markdown",
      "metadata": {
        "id": "X6lKvzeSEvdG"
      },
      "source": [
        "###Putting all together to create Next Generation function"
      ]
    },
    {
      "cell_type": "code",
      "metadata": {
        "id": "O5_Xge4QEqNs"
      },
      "source": [
        "def nextGeneration(currentGeneration, eliteSize, mutationRate):\n",
        "  \"\"\"\n",
        "    To create the Next Generation\n",
        "      1. We rank the routes in the current generation using rankRoutes.\n",
        "      2. We then determine our potential parents by running the selection function.\n",
        "      3. Which allows us to create the mating pool using the matingPool function.\n",
        "      4. Finally, we then create our new generation using the breedPopulation function.\n",
        "      5. And then applying mutation using the mutatePopulation function.\n",
        "  \"\"\"\n",
        "  populationRanked = rankRoutes(currentGeneration)\n",
        "  selectionResults = selection(populationRanked,eliteSize)\n",
        "  matingpool = matingPool(currentGeneration, selectionResults)\n",
        "  children = breedPopulation(matingpool, eliteSize)\n",
        "  nextGeneration = mutatePopulation(children, mutationRate)\n",
        "  return nextGeneration"
      ],
      "execution_count": 14,
      "outputs": []
    },
    {
      "cell_type": "markdown",
      "metadata": {
        "id": "A9ZWa4UcFZGB"
      },
      "source": [
        "### Putting everything together to create Genetic Algorithm"
      ]
    },
    {
      "cell_type": "code",
      "metadata": {
        "id": "8o7lnOw5FWt5"
      },
      "source": [
        "def geneticAlgorithm(population, populationSize, eliteSize, mutationRate, generations):\n",
        "  \"\"\"\n",
        "    To execute the Genetic Alrothm\n",
        "      1. We create the initial population.\n",
        "      2. then we can loop through as many generations as we desire.\n",
        "\n",
        "      We have printed the initial distance in start to observe how much we have improved.\n",
        "  \"\"\"\n",
        "  current = initialPopulation(populationSize, population)\n",
        "  print(f\"Initial Distance: {str(1 / rankRoutes(current)[0][1])}\")\n",
        "\n",
        "  for i in range(generations):\n",
        "    current = nextGeneration(current, eliteSize, mutationRate)\n",
        "\n",
        "  print(f\"Final Distance: {str(1 / rankRoutes(current)[0][1])}\")\n",
        "  bestRouteIndex = rankRoutes(current)[0][0]\n",
        "  bestRoute = current[bestRouteIndex]\n",
        "  return bestRoute"
      ],
      "execution_count": 15,
      "outputs": []
    },
    {
      "cell_type": "markdown",
      "metadata": {
        "id": "hofuCNM1GguA"
      },
      "source": [
        "##Runnning the Genetic Algorithm"
      ]
    },
    {
      "cell_type": "code",
      "metadata": {
        "id": "22nchDPBGfCC"
      },
      "source": [
        "cityList = []\n",
        "for i in range(25):\n",
        "  cityList.append(\n",
        "      City(\n",
        "          x = int(random.random() * 200),\n",
        "          y = int(random.random() * 200)\n",
        "      )\n",
        "  )"
      ],
      "execution_count": 16,
      "outputs": []
    },
    {
      "cell_type": "code",
      "metadata": {
        "colab": {
          "base_uri": "https://localhost:8080/"
        },
        "id": "IK6E0Fj5Gzk-",
        "outputId": "97839670-bb39-4238-dbb1-3ae6968bdc4c"
      },
      "source": [
        "geneticAlgorithm(\n",
        "    population = cityList,\n",
        "    populationSize = 100,\n",
        "    eliteSize = 20,\n",
        "    mutationRate = 0.01,\n",
        "    generations = 500\n",
        ")"
      ],
      "execution_count": 20,
      "outputs": [
        {
          "output_type": "stream",
          "text": [
            "Initial Distance: 1863.8386079213935\n",
            "Final Distance: 2199.8861705025733\n"
          ],
          "name": "stdout"
        },
        {
          "output_type": "execute_result",
          "data": {
            "text/plain": [
              "[( 19 , 105 ),\n",
              " ( 54 , 58 ),\n",
              " ( 135 , 102 ),\n",
              " ( 97 , 52 ),\n",
              " ( 88 , 23 ),\n",
              " ( 95 , 25 ),\n",
              " ( 133 , 173 ),\n",
              " ( 108 , 192 ),\n",
              " ( 186 , 177 ),\n",
              " ( 149 , 31 ),\n",
              " ( 189 , 17 ),\n",
              " ( 157 , 139 ),\n",
              " ( 49 , 72 ),\n",
              " ( 4 , 144 ),\n",
              " ( 128 , 37 ),\n",
              " ( 89 , 112 ),\n",
              " ( 67 , 165 ),\n",
              " ( 105 , 155 ),\n",
              " ( 184 , 113 ),\n",
              " ( 147 , 177 ),\n",
              " ( 135 , 90 ),\n",
              " ( 173 , 139 ),\n",
              " ( 105 , 185 ),\n",
              " ( 159 , 60 ),\n",
              " ( 195 , 149 )]"
            ]
          },
          "metadata": {
            "tags": []
          },
          "execution_count": 20
        }
      ]
    },
    {
      "cell_type": "markdown",
      "metadata": {
        "id": "yAfuC336ICh8"
      },
      "source": [
        "##Plotting the improvement"
      ]
    },
    {
      "cell_type": "code",
      "metadata": {
        "id": "dvFU3fd9HE5m"
      },
      "source": [
        "def geneticAlgorithmPlot(population, populationSize, eliteSize, mutationRate, generations):\n",
        "  current = initialPopulation(populationSize, population)\n",
        "  progress = []\n",
        "  progress.append(1 / rankRoutes(current)[0][1])\n",
        "\n",
        "  for i in range(generations):\n",
        "    current = nextGeneration(current, eliteSize, mutationRate)\n",
        "    progress.append(1 / rankRoutes(current)[0][1])\n",
        "\n",
        "  plt.plot(progress)\n",
        "  plt.ylabel(\"Distance\")\n",
        "  plt.xlabel(\"Generation\")\n",
        "  plt.show()"
      ],
      "execution_count": 18,
      "outputs": []
    },
    {
      "cell_type": "code",
      "metadata": {
        "colab": {
          "base_uri": "https://localhost:8080/",
          "height": 279
        },
        "id": "wQsLOXmfIxGd",
        "outputId": "57000b1f-d4b4-4d92-eba2-4e4edf15bebc"
      },
      "source": [
        "geneticAlgorithmPlot(\n",
        "    population = cityList,\n",
        "    populationSize = 100,\n",
        "    eliteSize = 20,\n",
        "    mutationRate = 0.01,\n",
        "    generations = 500\n",
        ")"
      ],
      "execution_count": 21,
      "outputs": [
        {
          "output_type": "display_data",
          "data": {
            "image/png": "[encoded data removed]",
            "text/plain": [
              "<Figure size 432x288 with 1 Axes>"
            ]
          },
          "metadata": {
            "tags": [],
            "needs_background": "light"
          }
        }
      ]
    },
    {
      "cell_type": "markdown",
      "metadata": {
        "id": "ekX_eqjAUwIO"
      },
      "source": [
        "Code and Contributed by **Shahzaib Kashif**"
      ]
    }
  ]
}